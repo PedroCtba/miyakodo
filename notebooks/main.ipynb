{
 "cells": [
  {
   "cell_type": "markdown",
   "metadata": {},
   "source": [
    "# Imports"
   ]
  },
  {
   "cell_type": "code",
   "execution_count": 2,
   "metadata": {},
   "outputs": [],
   "source": [
    "import polars as pl\n",
    "import pandas as pd\n",
    "import datetime\n",
    "import MetaTrader5 as mt5"
   ]
  },
  {
   "cell_type": "markdown",
   "metadata": {},
   "source": [
    "# Load data"
   ]
  },
  {
   "cell_type": "code",
   "execution_count": 3,
   "metadata": {},
   "outputs": [
    {
     "data": {
      "text/plain": [
       "True"
      ]
     },
     "execution_count": 3,
     "metadata": {},
     "output_type": "execute_result"
    }
   ],
   "source": [
    "# Initialize metatrader with python\n",
    "mt5.initialize()"
   ]
  },
  {
   "cell_type": "code",
   "execution_count": 4,
   "metadata": {},
   "outputs": [
    {
     "name": "stderr",
     "output_type": "stream",
     "text": [
      "C:\\Users\\PedroMiyasaki\\AppData\\Local\\Temp\\ipykernel_11368\\721747910.py:11: DeprecationWarning: `apply` is deprecated. It has been renamed to `map_elements`.\n",
      "  data = data.with_columns(pl.col(\"time\").apply(lambda x: pd.to_datetime(x, unit=\"s\")))\n",
      "C:\\Users\\PedroMiyasaki\\AppData\\Local\\Temp\\ipykernel_11368\\721747910.py:11: MapWithoutReturnDtypeWarning: Calling `map_elements` without specifying `return_dtype` can lead to unpredictable results. Specify `return_dtype` to silence this warning.\n",
      "  data = data.with_columns(pl.col(\"time\").apply(lambda x: pd.to_datetime(x, unit=\"s\")))\n"
     ]
    }
   ],
   "source": [
    "# Define ticker and timetrame\n",
    "TICKER = \"EURUSD\"\n",
    "TICKER_TIMEFRAME = mt5.TIMEFRAME_M5\n",
    "\n",
    "# Take ticker data\n",
    "data = pl.DataFrame(\n",
    "    mt5.copy_rates_range(TICKER, TICKER_TIMEFRAME, datetime.datetime(2023, 5, 20, 20), datetime.datetime(2024, 5, 2))\n",
    ")\n",
    "\n",
    "# Convert time ccolumns to datetime\n",
    "data = data.with_columns(pl.col(\"time\").apply(lambda x: pd.to_datetime(x, unit=\"s\")))"
   ]
  },
  {
   "cell_type": "markdown",
   "metadata": {},
   "source": [
    "# Create the \"Y\" class to the model\n",
    "\n",
    "My intention is to make a machine learning model that predicts the price flutuation so I can trade based on it, but it is not that simples, I need to consider how much the price has gonne in both directions, to solve that problem I will make a regression model that predicts a coefficient of fluctuation, for example:\n",
    "\n",
    "Within the next 10 minutes the price has moved upwards by 5 units and downward by 3 units, so its possible to gain =~ 1.66 units per each unit of risk if trading up and its possible to gain 0.6 units if trading downm downward motions will be resumed by -x while upwards motions will be resumed by +x"
   ]
  },
  {
   "cell_type": "code",
   "execution_count": 5,
   "metadata": {},
   "outputs": [],
   "source": [
    "# Define time window to look ahead\n",
    "MINUTES_AHEAD = 10\n",
    "\n",
    "# sort dataframe\n",
    "data = data.sort(\"time\")\n",
    "\n",
    "# Make Y columns\n",
    "data = (data\n",
    "    # Return max high and min_low within the next MINUTES_AHEAD window\n",
    "    .with_columns(\n",
    "        pl.col(\"high\").reverse().rolling_max(window_size=f\"{MINUTES_AHEAD}m\", by=\"time\", closed=\"left\").reverse().alias(\"max_high\"),\n",
    "        pl.col(\"low\").reverse().rolling_min(window_size=f\"{MINUTES_AHEAD}m\", by=\"time\", closed=\"left\").reverse().alias(\"min_low\")\n",
    "    )\n",
    "\n",
    "    # Calculate the max number of units mooved up and mooved down\n",
    "    .with_columns(\n",
    "        (pl.col(\"max_high\") - pl.col(\"close\")).alias(\"max_units_up\"),\n",
    "        (pl.col(\"close\") - pl.col(\"min_low\")).alias(\"max_units_down\")\n",
    "    )\n",
    "\n",
    "    # Return 0 if max units down is negative (a.k.a higher than current price)\n",
    "    .with_columns(max_units_down=\n",
    "        pl.when(pl.col(\"max_units_down\") < 0)\n",
    "        .then(0)\n",
    "        .otherwise(pl.col(\"max_units_down\"))\n",
    "    )\n",
    "    # Return 0 if max units up is negative (a.k.a lower than current price)\n",
    "    .with_columns(max_units_up=\n",
    "        pl.when(pl.col(\"max_units_up\") < 0)\n",
    "        .then(0)\n",
    "        .otherwise(pl.col(\"max_units_up\"))\n",
    "    )\n",
    "\n",
    "    # Divide max_units_up per max_units_down and vice-versa to make the \"y\" columns\n",
    "    .with_columns(\n",
    "        (pl.col(\"max_units_up\") / pl.col(\"max_units_down\")).alias(\"units_up_per_units_down_y\"),\n",
    "        (pl.col(\"max_units_down\") / pl.col(\"max_units_up\")).alias(\"units_down_per_units_up_y\")\n",
    "    )\n",
    "\n",
    "    # Resume inf gains as 999 gains, theese are operations where the stop loss would be the same has the last candle clossing price\n",
    "    .with_columns(units_up_per_units_down_y=\n",
    "        pl.when(pl.col(\"units_up_per_units_down_y\") > 1_000)\n",
    "        .then(999)\n",
    "        .otherwise(pl.col(\"units_up_per_units_down_y\"))\n",
    "    )\n",
    "    .with_columns(units_down_per_units_up_y=\n",
    "        pl.when(pl.col(\"units_down_per_units_up_y\") > 1_000)\n",
    "        .then(999)\n",
    "        .otherwise(pl.col(\"units_down_per_units_up_y\"))\n",
    "    )\n",
    ")\n",
    "\n",
    "# Drop auxs columns that generate data leakage and useless columns\n",
    "data = data.drop([\"max_high\", \"min_low\", \"max_units_up\", \"max_units_down\", \"spread\", \"real_volume\", \"tick_volume\"])"
   ]
  },
  {
   "cell_type": "markdown",
   "metadata": {},
   "source": [
    "# Feature engineering"
   ]
  },
  {
   "cell_type": "code",
   "execution_count": 18,
   "metadata": {},
   "outputs": [
    {
     "data": {
      "application/vnd.plotly.v1+json": {
       "config": {
        "plotlyServerURL": "https://plot.ly"
       },
       "data": [
        {
         "close": [
          1.08054,
          1.08062,
          1.0805,
          1.08089,
          1.08107,
          1.0813,
          1.08142,
          1.08179,
          1.08176,
          1.08193,
          1.08189,
          1.08176,
          1.08185,
          1.0819,
          1.08172,
          1.08185,
          1.0823,
          1.0823,
          1.08231,
          1.0823
         ],
         "high": [
          1.08063,
          1.08062,
          1.08062,
          1.08089,
          1.08109,
          1.0815,
          1.08147,
          1.08182,
          1.0818,
          1.08197,
          1.08191,
          1.08196,
          1.08186,
          1.08196,
          1.0819,
          1.08194,
          1.08235,
          1.08237,
          1.08241,
          1.08239
         ],
         "low": [
          1.08052,
          1.08054,
          1.08045,
          1.0805,
          1.08092,
          1.08107,
          1.08131,
          1.08142,
          1.0817,
          1.08176,
          1.08185,
          1.08171,
          1.08172,
          1.08182,
          1.0817,
          1.08167,
          1.08182,
          1.08215,
          1.08223,
          1.08224
         ],
         "open": [
          1.08053,
          1.08062,
          1.08062,
          1.0805,
          1.08093,
          1.08107,
          1.08131,
          1.0814300000000001,
          1.08179,
          1.08176,
          1.0819,
          1.08195,
          1.08176,
          1.08186,
          1.0819,
          1.08172,
          1.08185,
          1.0823,
          1.08229,
          1.08231
         ],
         "type": "candlestick",
         "x": [
          "2023-05-22T00:45:00.000000",
          "2023-05-22T00:50:00.000000",
          "2023-05-22T00:55:00.000000",
          "2023-05-22T01:00:00.000000",
          "2023-05-22T01:05:00.000000",
          "2023-05-22T01:10:00.000000",
          "2023-05-22T01:15:00.000000",
          "2023-05-22T01:20:00.000000",
          "2023-05-22T01:25:00.000000",
          "2023-05-22T01:30:00.000000",
          "2023-05-22T01:35:00.000000",
          "2023-05-22T01:40:00.000000",
          "2023-05-22T01:45:00.000000",
          "2023-05-22T01:50:00.000000",
          "2023-05-22T01:55:00.000000",
          "2023-05-22T02:00:00.000000",
          "2023-05-22T02:05:00.000000",
          "2023-05-22T02:10:00.000000",
          "2023-05-22T02:15:00.000000",
          "2023-05-22T02:20:00.000000"
         ]
        }
       ],
       "layout": {
        "template": {
         "data": {
          "bar": [
           {
            "error_x": {
             "color": "#2a3f5f"
            },
            "error_y": {
             "color": "#2a3f5f"
            },
            "marker": {
             "line": {
              "color": "#E5ECF6",
              "width": 0.5
             },
             "pattern": {
              "fillmode": "overlay",
              "size": 10,
              "solidity": 0.2
             }
            },
            "type": "bar"
           }
          ],
          "barpolar": [
           {
            "marker": {
             "line": {
              "color": "#E5ECF6",
              "width": 0.5
             },
             "pattern": {
              "fillmode": "overlay",
              "size": 10,
              "solidity": 0.2
             }
            },
            "type": "barpolar"
           }
          ],
          "carpet": [
           {
            "aaxis": {
             "endlinecolor": "#2a3f5f",
             "gridcolor": "white",
             "linecolor": "white",
             "minorgridcolor": "white",
             "startlinecolor": "#2a3f5f"
            },
            "baxis": {
             "endlinecolor": "#2a3f5f",
             "gridcolor": "white",
             "linecolor": "white",
             "minorgridcolor": "white",
             "startlinecolor": "#2a3f5f"
            },
            "type": "carpet"
           }
          ],
          "choropleth": [
           {
            "colorbar": {
             "outlinewidth": 0,
             "ticks": ""
            },
            "type": "choropleth"
           }
          ],
          "contour": [
           {
            "colorbar": {
             "outlinewidth": 0,
             "ticks": ""
            },
            "colorscale": [
             [
              0,
              "#0d0887"
             ],
             [
              0.1111111111111111,
              "#46039f"
             ],
             [
              0.2222222222222222,
              "#7201a8"
             ],
             [
              0.3333333333333333,
              "#9c179e"
             ],
             [
              0.4444444444444444,
              "#bd3786"
             ],
             [
              0.5555555555555556,
              "#d8576b"
             ],
             [
              0.6666666666666666,
              "#ed7953"
             ],
             [
              0.7777777777777778,
              "#fb9f3a"
             ],
             [
              0.8888888888888888,
              "#fdca26"
             ],
             [
              1,
              "#f0f921"
             ]
            ],
            "type": "contour"
           }
          ],
          "contourcarpet": [
           {
            "colorbar": {
             "outlinewidth": 0,
             "ticks": ""
            },
            "type": "contourcarpet"
           }
          ],
          "heatmap": [
           {
            "colorbar": {
             "outlinewidth": 0,
             "ticks": ""
            },
            "colorscale": [
             [
              0,
              "#0d0887"
             ],
             [
              0.1111111111111111,
              "#46039f"
             ],
             [
              0.2222222222222222,
              "#7201a8"
             ],
             [
              0.3333333333333333,
              "#9c179e"
             ],
             [
              0.4444444444444444,
              "#bd3786"
             ],
             [
              0.5555555555555556,
              "#d8576b"
             ],
             [
              0.6666666666666666,
              "#ed7953"
             ],
             [
              0.7777777777777778,
              "#fb9f3a"
             ],
             [
              0.8888888888888888,
              "#fdca26"
             ],
             [
              1,
              "#f0f921"
             ]
            ],
            "type": "heatmap"
           }
          ],
          "heatmapgl": [
           {
            "colorbar": {
             "outlinewidth": 0,
             "ticks": ""
            },
            "colorscale": [
             [
              0,
              "#0d0887"
             ],
             [
              0.1111111111111111,
              "#46039f"
             ],
             [
              0.2222222222222222,
              "#7201a8"
             ],
             [
              0.3333333333333333,
              "#9c179e"
             ],
             [
              0.4444444444444444,
              "#bd3786"
             ],
             [
              0.5555555555555556,
              "#d8576b"
             ],
             [
              0.6666666666666666,
              "#ed7953"
             ],
             [
              0.7777777777777778,
              "#fb9f3a"
             ],
             [
              0.8888888888888888,
              "#fdca26"
             ],
             [
              1,
              "#f0f921"
             ]
            ],
            "type": "heatmapgl"
           }
          ],
          "histogram": [
           {
            "marker": {
             "pattern": {
              "fillmode": "overlay",
              "size": 10,
              "solidity": 0.2
             }
            },
            "type": "histogram"
           }
          ],
          "histogram2d": [
           {
            "colorbar": {
             "outlinewidth": 0,
             "ticks": ""
            },
            "colorscale": [
             [
              0,
              "#0d0887"
             ],
             [
              0.1111111111111111,
              "#46039f"
             ],
             [
              0.2222222222222222,
              "#7201a8"
             ],
             [
              0.3333333333333333,
              "#9c179e"
             ],
             [
              0.4444444444444444,
              "#bd3786"
             ],
             [
              0.5555555555555556,
              "#d8576b"
             ],
             [
              0.6666666666666666,
              "#ed7953"
             ],
             [
              0.7777777777777778,
              "#fb9f3a"
             ],
             [
              0.8888888888888888,
              "#fdca26"
             ],
             [
              1,
              "#f0f921"
             ]
            ],
            "type": "histogram2d"
           }
          ],
          "histogram2dcontour": [
           {
            "colorbar": {
             "outlinewidth": 0,
             "ticks": ""
            },
            "colorscale": [
             [
              0,
              "#0d0887"
             ],
             [
              0.1111111111111111,
              "#46039f"
             ],
             [
              0.2222222222222222,
              "#7201a8"
             ],
             [
              0.3333333333333333,
              "#9c179e"
             ],
             [
              0.4444444444444444,
              "#bd3786"
             ],
             [
              0.5555555555555556,
              "#d8576b"
             ],
             [
              0.6666666666666666,
              "#ed7953"
             ],
             [
              0.7777777777777778,
              "#fb9f3a"
             ],
             [
              0.8888888888888888,
              "#fdca26"
             ],
             [
              1,
              "#f0f921"
             ]
            ],
            "type": "histogram2dcontour"
           }
          ],
          "mesh3d": [
           {
            "colorbar": {
             "outlinewidth": 0,
             "ticks": ""
            },
            "type": "mesh3d"
           }
          ],
          "parcoords": [
           {
            "line": {
             "colorbar": {
              "outlinewidth": 0,
              "ticks": ""
             }
            },
            "type": "parcoords"
           }
          ],
          "pie": [
           {
            "automargin": true,
            "type": "pie"
           }
          ],
          "scatter": [
           {
            "fillpattern": {
             "fillmode": "overlay",
             "size": 10,
             "solidity": 0.2
            },
            "type": "scatter"
           }
          ],
          "scatter3d": [
           {
            "line": {
             "colorbar": {
              "outlinewidth": 0,
              "ticks": ""
             }
            },
            "marker": {
             "colorbar": {
              "outlinewidth": 0,
              "ticks": ""
             }
            },
            "type": "scatter3d"
           }
          ],
          "scattercarpet": [
           {
            "marker": {
             "colorbar": {
              "outlinewidth": 0,
              "ticks": ""
             }
            },
            "type": "scattercarpet"
           }
          ],
          "scattergeo": [
           {
            "marker": {
             "colorbar": {
              "outlinewidth": 0,
              "ticks": ""
             }
            },
            "type": "scattergeo"
           }
          ],
          "scattergl": [
           {
            "marker": {
             "colorbar": {
              "outlinewidth": 0,
              "ticks": ""
             }
            },
            "type": "scattergl"
           }
          ],
          "scattermapbox": [
           {
            "marker": {
             "colorbar": {
              "outlinewidth": 0,
              "ticks": ""
             }
            },
            "type": "scattermapbox"
           }
          ],
          "scatterpolar": [
           {
            "marker": {
             "colorbar": {
              "outlinewidth": 0,
              "ticks": ""
             }
            },
            "type": "scatterpolar"
           }
          ],
          "scatterpolargl": [
           {
            "marker": {
             "colorbar": {
              "outlinewidth": 0,
              "ticks": ""
             }
            },
            "type": "scatterpolargl"
           }
          ],
          "scatterternary": [
           {
            "marker": {
             "colorbar": {
              "outlinewidth": 0,
              "ticks": ""
             }
            },
            "type": "scatterternary"
           }
          ],
          "surface": [
           {
            "colorbar": {
             "outlinewidth": 0,
             "ticks": ""
            },
            "colorscale": [
             [
              0,
              "#0d0887"
             ],
             [
              0.1111111111111111,
              "#46039f"
             ],
             [
              0.2222222222222222,
              "#7201a8"
             ],
             [
              0.3333333333333333,
              "#9c179e"
             ],
             [
              0.4444444444444444,
              "#bd3786"
             ],
             [
              0.5555555555555556,
              "#d8576b"
             ],
             [
              0.6666666666666666,
              "#ed7953"
             ],
             [
              0.7777777777777778,
              "#fb9f3a"
             ],
             [
              0.8888888888888888,
              "#fdca26"
             ],
             [
              1,
              "#f0f921"
             ]
            ],
            "type": "surface"
           }
          ],
          "table": [
           {
            "cells": {
             "fill": {
              "color": "#EBF0F8"
             },
             "line": {
              "color": "white"
             }
            },
            "header": {
             "fill": {
              "color": "#C8D4E3"
             },
             "line": {
              "color": "white"
             }
            },
            "type": "table"
           }
          ]
         },
         "layout": {
          "annotationdefaults": {
           "arrowcolor": "#2a3f5f",
           "arrowhead": 0,
           "arrowwidth": 1
          },
          "autotypenumbers": "strict",
          "coloraxis": {
           "colorbar": {
            "outlinewidth": 0,
            "ticks": ""
           }
          },
          "colorscale": {
           "diverging": [
            [
             0,
             "#8e0152"
            ],
            [
             0.1,
             "#c51b7d"
            ],
            [
             0.2,
             "#de77ae"
            ],
            [
             0.3,
             "#f1b6da"
            ],
            [
             0.4,
             "#fde0ef"
            ],
            [
             0.5,
             "#f7f7f7"
            ],
            [
             0.6,
             "#e6f5d0"
            ],
            [
             0.7,
             "#b8e186"
            ],
            [
             0.8,
             "#7fbc41"
            ],
            [
             0.9,
             "#4d9221"
            ],
            [
             1,
             "#276419"
            ]
           ],
           "sequential": [
            [
             0,
             "#0d0887"
            ],
            [
             0.1111111111111111,
             "#46039f"
            ],
            [
             0.2222222222222222,
             "#7201a8"
            ],
            [
             0.3333333333333333,
             "#9c179e"
            ],
            [
             0.4444444444444444,
             "#bd3786"
            ],
            [
             0.5555555555555556,
             "#d8576b"
            ],
            [
             0.6666666666666666,
             "#ed7953"
            ],
            [
             0.7777777777777778,
             "#fb9f3a"
            ],
            [
             0.8888888888888888,
             "#fdca26"
            ],
            [
             1,
             "#f0f921"
            ]
           ],
           "sequentialminus": [
            [
             0,
             "#0d0887"
            ],
            [
             0.1111111111111111,
             "#46039f"
            ],
            [
             0.2222222222222222,
             "#7201a8"
            ],
            [
             0.3333333333333333,
             "#9c179e"
            ],
            [
             0.4444444444444444,
             "#bd3786"
            ],
            [
             0.5555555555555556,
             "#d8576b"
            ],
            [
             0.6666666666666666,
             "#ed7953"
            ],
            [
             0.7777777777777778,
             "#fb9f3a"
            ],
            [
             0.8888888888888888,
             "#fdca26"
            ],
            [
             1,
             "#f0f921"
            ]
           ]
          },
          "colorway": [
           "#636efa",
           "#EF553B",
           "#00cc96",
           "#ab63fa",
           "#FFA15A",
           "#19d3f3",
           "#FF6692",
           "#B6E880",
           "#FF97FF",
           "#FECB52"
          ],
          "font": {
           "color": "#2a3f5f"
          },
          "geo": {
           "bgcolor": "white",
           "lakecolor": "white",
           "landcolor": "#E5ECF6",
           "showlakes": true,
           "showland": true,
           "subunitcolor": "white"
          },
          "hoverlabel": {
           "align": "left"
          },
          "hovermode": "closest",
          "mapbox": {
           "style": "light"
          },
          "paper_bgcolor": "white",
          "plot_bgcolor": "#E5ECF6",
          "polar": {
           "angularaxis": {
            "gridcolor": "white",
            "linecolor": "white",
            "ticks": ""
           },
           "bgcolor": "#E5ECF6",
           "radialaxis": {
            "gridcolor": "white",
            "linecolor": "white",
            "ticks": ""
           }
          },
          "scene": {
           "xaxis": {
            "backgroundcolor": "#E5ECF6",
            "gridcolor": "white",
            "gridwidth": 2,
            "linecolor": "white",
            "showbackground": true,
            "ticks": "",
            "zerolinecolor": "white"
           },
           "yaxis": {
            "backgroundcolor": "#E5ECF6",
            "gridcolor": "white",
            "gridwidth": 2,
            "linecolor": "white",
            "showbackground": true,
            "ticks": "",
            "zerolinecolor": "white"
           },
           "zaxis": {
            "backgroundcolor": "#E5ECF6",
            "gridcolor": "white",
            "gridwidth": 2,
            "linecolor": "white",
            "showbackground": true,
            "ticks": "",
            "zerolinecolor": "white"
           }
          },
          "shapedefaults": {
           "line": {
            "color": "#2a3f5f"
           }
          },
          "ternary": {
           "aaxis": {
            "gridcolor": "white",
            "linecolor": "white",
            "ticks": ""
           },
           "baxis": {
            "gridcolor": "white",
            "linecolor": "white",
            "ticks": ""
           },
           "bgcolor": "#E5ECF6",
           "caxis": {
            "gridcolor": "white",
            "linecolor": "white",
            "ticks": ""
           }
          },
          "title": {
           "x": 0.05
          },
          "xaxis": {
           "automargin": true,
           "gridcolor": "white",
           "linecolor": "white",
           "ticks": "",
           "title": {
            "standoff": 15
           },
           "zerolinecolor": "white",
           "zerolinewidth": 2
          },
          "yaxis": {
           "automargin": true,
           "gridcolor": "white",
           "linecolor": "white",
           "ticks": "",
           "title": {
            "standoff": 15
           },
           "zerolinecolor": "white",
           "zerolinewidth": 2
          }
         }
        }
       }
      }
     },
     "metadata": {},
     "output_type": "display_data"
    }
   ],
   "source": [
    "import plotly.graph_objects as go\n",
    "\n",
    "data_f = data.filter(pl.col(\"time\") > pd.to_datetime(\"2023-05-22 00:40:00\")).head(20)\n",
    "fig = go.Figure(data=[go.Candlestick(x=data_f[\"time\"],\n",
    "                open=data_f[\"open\"],\n",
    "                high=data_f[\"high\"],\n",
    "                low=data_f[\"low\"],\n",
    "                close=data_f[\"close\"])])\n",
    "\n",
    "fig.show()"
   ]
  },
  {
   "cell_type": "code",
   "execution_count": 6,
   "metadata": {},
   "outputs": [],
   "source": [
    "# Make aux columns to helptechnical analysis candle features\n",
    "data = (data\n",
    "    # Make columns that return candle direction\n",
    "    .with_columns(direction=\n",
    "        pl.when(\n",
    "            (pl.col(\"close\") - pl.col(\"open\")) > 0\n",
    "        )\n",
    "        .then(pl.lit(\"up\"))\n",
    "        .when(\n",
    "            (pl.col(\"close\") - pl.col(\"open\")) < 0\n",
    "        )\n",
    "        .then(pl.lit(\"down\"))\n",
    "        .otherwise(pl.lit(\"none\")\n",
    "        )\n",
    "    )\n",
    "    # Make column to return candle internal and total movement (Direction does not matter here)\n",
    "    .with_columns(\n",
    "        (pl.col(\"close\") - pl.col(\"open\")).abs().alias(\"internal_movement\"),\n",
    "        (pl.col(\"low\") - pl.col(\"high\")).abs().alias(\"total_movement\")\n",
    "    )\n",
    "\n",
    "    # Calculate percentage of candle that is filled (Direction does not matter here also)\n",
    "    .with_columns(\n",
    "        (pl.col(\"internal_movement\") / pl.col(\"total_movement\")).alias(\"pct_filled\")\n",
    "    )\n",
    ")"
   ]
  },
  {
   "cell_type": "code",
   "execution_count": 17,
   "metadata": {},
   "outputs": [
    {
     "data": {
      "text/html": [
       "<div><style>\n",
       ".dataframe > thead > tr,\n",
       ".dataframe > tbody > tr {\n",
       "  text-align: right;\n",
       "  white-space: pre-wrap;\n",
       "}\n",
       "</style>\n",
       "<small>shape: (2_157, 19)</small><table border=\"1\" class=\"dataframe\"><thead><tr><th>time</th><th>open</th><th>high</th><th>low</th><th>close</th><th>units_up_per_units_down_y</th><th>units_down_per_units_up_y</th><th>direction</th><th>internal_movement</th><th>total_movement</th><th>pct_filled</th><th>three_black_crowns</th><th>three_white_soldiers</th><th>outside_candle</th><th>inside_candle</th><th>inside_up</th><th>inside_down</th><th>outside_up</th><th>outside_down</th></tr><tr><td>datetime[μs]</td><td>f64</td><td>f64</td><td>f64</td><td>f64</td><td>f64</td><td>f64</td><td>str</td><td>f64</td><td>f64</td><td>f64</td><td>bool</td><td>bool</td><td>bool</td><td>bool</td><td>bool</td><td>bool</td><td>bool</td><td>bool</td></tr></thead><tbody><tr><td>2023-05-22 00:55:00</td><td>1.08062</td><td>1.08062</td><td>1.08045</td><td>1.0805</td><td>999.0</td><td>0.0</td><td>&quot;down&quot;</td><td>0.00012</td><td>0.00017</td><td>0.705882</td><td>false</td><td>false</td><td>false</td><td>false</td><td>false</td><td>true</td><td>false</td><td>false</td></tr><tr><td>2023-05-22 01:40:00</td><td>1.08195</td><td>1.08196</td><td>1.08171</td><td>1.08176</td><td>5.0</td><td>0.2</td><td>&quot;down&quot;</td><td>0.00019</td><td>0.00025</td><td>0.76</td><td>false</td><td>false</td><td>true</td><td>false</td><td>false</td><td>true</td><td>false</td><td>false</td></tr><tr><td>2023-05-22 02:25:00</td><td>1.0823</td><td>1.0823</td><td>1.08207</td><td>1.08209</td><td>0.7</td><td>1.428571</td><td>&quot;down&quot;</td><td>0.00021</td><td>0.00023</td><td>0.913043</td><td>false</td><td>false</td><td>false</td><td>false</td><td>false</td><td>true</td><td>false</td><td>false</td></tr><tr><td>2023-05-22 03:10:00</td><td>1.08192</td><td>1.08203</td><td>1.08177</td><td>1.08185</td><td>7.5</td><td>0.133333</td><td>&quot;down&quot;</td><td>0.00007</td><td>0.00026</td><td>0.269231</td><td>false</td><td>false</td><td>false</td><td>false</td><td>false</td><td>true</td><td>false</td><td>false</td></tr><tr><td>2023-05-22 08:55:00</td><td>1.08141</td><td>1.08142</td><td>1.08101</td><td>1.08104</td><td>72.0</td><td>0.013889</td><td>&quot;down&quot;</td><td>0.00037</td><td>0.00041</td><td>0.902439</td><td>false</td><td>false</td><td>false</td><td>false</td><td>false</td><td>true</td><td>false</td><td>false</td></tr><tr><td>&hellip;</td><td>&hellip;</td><td>&hellip;</td><td>&hellip;</td><td>&hellip;</td><td>&hellip;</td><td>&hellip;</td><td>&hellip;</td><td>&hellip;</td><td>&hellip;</td><td>&hellip;</td><td>&hellip;</td><td>&hellip;</td><td>&hellip;</td><td>&hellip;</td><td>&hellip;</td><td>&hellip;</td><td>&hellip;</td><td>&hellip;</td></tr><tr><td>2024-04-30 23:55:00</td><td>1.06656</td><td>1.06662</td><td>1.0663</td><td>1.06655</td><td>1.6</td><td>0.625</td><td>&quot;down&quot;</td><td>0.00001</td><td>0.00032</td><td>0.03125</td><td>false</td><td>false</td><td>false</td><td>false</td><td>false</td><td>true</td><td>false</td><td>false</td></tr><tr><td>2024-05-01 05:30:00</td><td>1.06593</td><td>1.06595</td><td>1.06579</td><td>1.06582</td><td>1.6</td><td>0.625</td><td>&quot;down&quot;</td><td>0.00011</td><td>0.00016</td><td>0.6875</td><td>false</td><td>false</td><td>false</td><td>false</td><td>false</td><td>true</td><td>false</td><td>false</td></tr><tr><td>2024-05-01 14:00:00</td><td>1.06689</td><td>1.06689</td><td>1.06671</td><td>1.06683</td><td>6.2</td><td>0.16129</td><td>&quot;down&quot;</td><td>0.00006</td><td>0.00018</td><td>0.333333</td><td>false</td><td>false</td><td>false</td><td>false</td><td>false</td><td>true</td><td>false</td><td>false</td></tr><tr><td>2024-05-01 18:40:00</td><td>1.06838</td><td>1.06842</td><td>1.06816</td><td>1.06817</td><td>0.809524</td><td>1.235294</td><td>&quot;down&quot;</td><td>0.00021</td><td>0.00026</td><td>0.807692</td><td>false</td><td>false</td><td>true</td><td>false</td><td>false</td><td>true</td><td>false</td><td>false</td></tr><tr><td>2024-05-01 19:10:00</td><td>1.06768</td><td>1.06777</td><td>1.06741</td><td>1.06742</td><td>0.909091</td><td>1.1</td><td>&quot;down&quot;</td><td>0.00026</td><td>0.00036</td><td>0.722222</td><td>false</td><td>false</td><td>false</td><td>false</td><td>false</td><td>true</td><td>false</td><td>false</td></tr></tbody></table></div>"
      ],
      "text/plain": [
       "shape: (2_157, 19)\n",
       "┌─────────────┬─────────┬─────────┬─────────┬───┬───────────┬────────────┬────────────┬────────────┐\n",
       "│ time        ┆ open    ┆ high    ┆ low     ┆ … ┆ inside_up ┆ inside_dow ┆ outside_up ┆ outside_do │\n",
       "│ ---         ┆ ---     ┆ ---     ┆ ---     ┆   ┆ ---       ┆ n          ┆ ---        ┆ wn         │\n",
       "│ datetime[μs ┆ f64     ┆ f64     ┆ f64     ┆   ┆ bool      ┆ ---        ┆ bool       ┆ ---        │\n",
       "│ ]           ┆         ┆         ┆         ┆   ┆           ┆ bool       ┆            ┆ bool       │\n",
       "╞═════════════╪═════════╪═════════╪═════════╪═══╪═══════════╪════════════╪════════════╪════════════╡\n",
       "│ 2023-05-22  ┆ 1.08062 ┆ 1.08062 ┆ 1.08045 ┆ … ┆ false     ┆ true       ┆ false      ┆ false      │\n",
       "│ 00:55:00    ┆         ┆         ┆         ┆   ┆           ┆            ┆            ┆            │\n",
       "│ 2023-05-22  ┆ 1.08195 ┆ 1.08196 ┆ 1.08171 ┆ … ┆ false     ┆ true       ┆ false      ┆ false      │\n",
       "│ 01:40:00    ┆         ┆         ┆         ┆   ┆           ┆            ┆            ┆            │\n",
       "│ 2023-05-22  ┆ 1.0823  ┆ 1.0823  ┆ 1.08207 ┆ … ┆ false     ┆ true       ┆ false      ┆ false      │\n",
       "│ 02:25:00    ┆         ┆         ┆         ┆   ┆           ┆            ┆            ┆            │\n",
       "│ 2023-05-22  ┆ 1.08192 ┆ 1.08203 ┆ 1.08177 ┆ … ┆ false     ┆ true       ┆ false      ┆ false      │\n",
       "│ 03:10:00    ┆         ┆         ┆         ┆   ┆           ┆            ┆            ┆            │\n",
       "│ 2023-05-22  ┆ 1.08141 ┆ 1.08142 ┆ 1.08101 ┆ … ┆ false     ┆ true       ┆ false      ┆ false      │\n",
       "│ 08:55:00    ┆         ┆         ┆         ┆   ┆           ┆            ┆            ┆            │\n",
       "│ …           ┆ …       ┆ …       ┆ …       ┆ … ┆ …         ┆ …          ┆ …          ┆ …          │\n",
       "│ 2024-04-30  ┆ 1.06656 ┆ 1.06662 ┆ 1.0663  ┆ … ┆ false     ┆ true       ┆ false      ┆ false      │\n",
       "│ 23:55:00    ┆         ┆         ┆         ┆   ┆           ┆            ┆            ┆            │\n",
       "│ 2024-05-01  ┆ 1.06593 ┆ 1.06595 ┆ 1.06579 ┆ … ┆ false     ┆ true       ┆ false      ┆ false      │\n",
       "│ 05:30:00    ┆         ┆         ┆         ┆   ┆           ┆            ┆            ┆            │\n",
       "│ 2024-05-01  ┆ 1.06689 ┆ 1.06689 ┆ 1.06671 ┆ … ┆ false     ┆ true       ┆ false      ┆ false      │\n",
       "│ 14:00:00    ┆         ┆         ┆         ┆   ┆           ┆            ┆            ┆            │\n",
       "│ 2024-05-01  ┆ 1.06838 ┆ 1.06842 ┆ 1.06816 ┆ … ┆ false     ┆ true       ┆ false      ┆ false      │\n",
       "│ 18:40:00    ┆         ┆         ┆         ┆   ┆           ┆            ┆            ┆            │\n",
       "│ 2024-05-01  ┆ 1.06768 ┆ 1.06777 ┆ 1.06741 ┆ … ┆ false     ┆ true       ┆ false      ┆ false      │\n",
       "│ 19:10:00    ┆         ┆         ┆         ┆   ┆           ┆            ┆            ┆            │\n",
       "└─────────────┴─────────┴─────────┴─────────┴───┴───────────┴────────────┴────────────┴────────────┘"
      ]
     },
     "execution_count": 17,
     "metadata": {},
     "output_type": "execute_result"
    }
   ],
   "source": [
    "(data\n",
    "    # Make three_black_crowns pattern\n",
    "    .with_columns(three_black_crowns=\n",
    "        pl.when(\n",
    "            # 1. 3 last candles where filled\n",
    "            pl.col(\"pct_filled\") > 0.60,\n",
    "            pl.col(\"pct_filled\").shift(1) > 0.60,\n",
    "            pl.col(\"pct_filled\").shift(2) > 0.60,\n",
    "\n",
    "            # 2. 3 last candles where down?\n",
    "            pl.col(\"direction\") == \"down\",\n",
    "            pl.col(\"direction\").shift(1) == \"down\",\n",
    "            pl.col(\"direction\").shift(2) == \"down\",\n",
    "\n",
    "            # 3. Last 2 closes where below last 2 lows\n",
    "            pl.col(\"close\") < pl.col(\"low\").shift(1),\n",
    "            pl.col(\"close\").shift(1) < pl.col(\"low\").shift(2),\n",
    "            pl.col(\"close\").shift(2) < pl.col(\"low\").shift(3)\n",
    "        )\n",
    "        .then(True)\n",
    "        .otherwise(False)\n",
    "    )\n",
    "\n",
    "    # Make three_white_soldiers pattern\n",
    "    .with_columns(three_white_soldiers=\n",
    "        pl.when(\n",
    "            # 1. 3 last canldes where filled\n",
    "            pl.col(\"pct_filled\") > 0.60,\n",
    "            pl.col(\"pct_filled\").shift(1) > 0.60,\n",
    "            pl.col(\"pct_filled\").shift(2) > 0.60,\n",
    "\n",
    "            # 2. 3 last candles where up?\n",
    "            pl.col(\"direction\") == \"up\",\n",
    "            pl.col(\"direction\").shift(1) == \"up\",\n",
    "            pl.col(\"direction\").shift(2) == \"up\",\n",
    "\n",
    "            # 3. Last 2 closes where above last 2 highs\n",
    "            pl.col(\"close\") > pl.col(\"high\").shift(1),\n",
    "            pl.col(\"close\").shift(1) > pl.col(\"high\").shift(2),\n",
    "            pl.col(\"close\").shift(2) > pl.col(\"high\").shift(3)\n",
    "        )\n",
    "        .then(True)\n",
    "        .otherwise(False)\n",
    "    )\n",
    "\n",
    "    # Make outside candle pattern\n",
    "    .with_columns(outside_candle=\n",
    "        pl.when(\n",
    "            # Current high and low are \"outside\" last candle highs and low's\n",
    "            pl.col(\"high\") > pl.col(\"high\").shift(1),\n",
    "            pl.col(\"low\") < pl.col(\"low\").shift(1)\n",
    "        )\n",
    "        .then(True)\n",
    "        .otherwise(False)\n",
    "    )\n",
    "\n",
    "    # Make inside candle pattern\n",
    "    .with_columns(inside_candle=\n",
    "        pl.when(\n",
    "            # Current high and low are \"inside\" last candle highs and low's\n",
    "            pl.col(\"high\") < pl.col(\"high\").shift(1),\n",
    "            pl.col(\"low\") > pl.col(\"low\").shift(1)\n",
    "        )\n",
    "        .then(True)\n",
    "        .otherwise(False)\n",
    "    )\n",
    "\n",
    "    # Make inside up\n",
    "    .with_columns(inside_up=\n",
    "        pl.when(\n",
    "            # If last candle was and inside candle and current candle close is above last candle high\n",
    "            pl.col(\"inside_candle\").shift(1),\n",
    "            pl.col(\"close\") > pl.col(\"high\").shift(1)\n",
    "        )\n",
    "        .then(True)\n",
    "        .otherwise(False)\n",
    "    )\n",
    "\n",
    "    # Make inside down\n",
    "    .with_columns(inside_down=\n",
    "        pl.when(\n",
    "            # If last candle was and inside candle and current candle close is below last candle low\n",
    "            pl.col(\"inside_candle\").shift(1),\n",
    "            pl.col(\"close\") < pl.col(\"low\").shift(1)\n",
    "        )\n",
    "        .then(True)\n",
    "        .otherwise(False)\n",
    "    )\n",
    "\n",
    "    # Make outside up\n",
    "    .with_columns(outside_up=\n",
    "        pl.when(\n",
    "            # If last candle was and outside candle and current candle close is above last candle high\n",
    "            pl.col(\"outside_candle\").shift(1),\n",
    "            pl.col(\"close\") > pl.col(\"high\").shift(1)\n",
    "        )\n",
    "        .then(True)\n",
    "        .otherwise(False)\n",
    "    )\n",
    "\n",
    "    # Make outside down\n",
    "    .with_columns(outside_down=\n",
    "        pl.when(\n",
    "            # If last candle was and outside candle and current candle close is below last candle low\n",
    "            pl.col(\"outside_candle\").shift(1),\n",
    "            pl.col(\"close\") < pl.col(\"low\").shift(1)\n",
    "        )\n",
    "        .then(True)\n",
    "        .otherwise(False)\n",
    "    )\n",
    "\n",
    "    # Make lost baby\n",
    "    .with_columns(lost_baby=\n",
    "        pl.when(\n",
    "        )\n",
    "        .then(True)\n",
    "        .otherwise(False)\n",
    "    )\n",
    "\n",
    "    # Make lost baby high\n",
    "    .with_columns(lost_baby_high=\n",
    "        pl.when(\n",
    "        )\n",
    "        .then(True)\n",
    "        .otherwise(False)\n",
    "    )\n",
    "\n",
    "        # Make lost baby\n",
    "    .with_columns(lost_baby_low=\n",
    "        pl.when(\n",
    "        )\n",
    "        .then(True)\n",
    "        .otherwise(False)\n",
    "    )\n",
    ").filter(pl.col(\"inside_down\"))"
   ]
  },
  {
   "cell_type": "code",
   "execution_count": null,
   "metadata": {},
   "outputs": [],
   "source": []
  }
 ],
 "metadata": {
  "kernelspec": {
   "display_name": "miyakodo",
   "language": "python",
   "name": "python3"
  },
  "language_info": {
   "codemirror_mode": {
    "name": "ipython",
    "version": 3
   },
   "file_extension": ".py",
   "mimetype": "text/x-python",
   "name": "python",
   "nbconvert_exporter": "python",
   "pygments_lexer": "ipython3",
   "version": "3.12.3"
  }
 },
 "nbformat": 4,
 "nbformat_minor": 2
}
